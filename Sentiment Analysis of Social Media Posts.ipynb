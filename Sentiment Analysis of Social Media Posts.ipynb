{
  "nbformat": 4,
  "nbformat_minor": 0,
  "metadata": {
    "colab": {
      "provenance": []
    },
    "kernelspec": {
      "name": "python3",
      "display_name": "Python 3"
    },
    "language_info": {
      "name": "python"
    }
  },
  "cells": [
    {
      "cell_type": "markdown",
      "source": [
        "###In this lab, initially, preliminary data underwent preprocessing and tokenization prior to model fine-tuning. Later, model undergoes training and fine-tuning using the preliminary dataset, detailed in the methodology chapter and provided in the [data section](https://github.com/ImRezar/Sentiment-and-Attitude-in-Posts-by-Iranian-and-Non--Iranian-News-Agencies-on-X-Regarding/blob/main/Training%20Data). Subsequently, social media posts from platform X, representing each news agency, were inputted into the model for sentiment prediction. The accompanying code quantifies the model's sentiment predictions, presenting the percentage of negative and positive sentiment attributed to each news agency based on the supplied data."
      ],
      "metadata": {
        "id": "54qEtGfnr6Oq"
      }
    },
    {
      "cell_type": "code",
      "source": [
        "#First the necessary libraries imported\n",
        "!pip install transformers datasets\n",
        "import pandas as pd\n",
        "import matplotlib.pyplot as plt\n",
        "import torch\n",
        "import numpy as np\n",
        "import tensorflow as tf\n",
        "from sklearn.utils.class_weight import compute_class_weight\n",
        "from tensorflow.keras.preprocessing.text import Tokenizer\n",
        "from tensorflow.keras.preprocessing.sequence import pad_sequences\n",
        "from transformers import create_optimizer\n",
        "from transformers import TFAutoModelForSequenceClassification\n",
        "from transformers import pipeline, AutoTokenizer"
      ],
      "metadata": {
        "id": "62-DsvKwlijm"
      },
      "execution_count": null,
      "outputs": []
    },
    {
      "cell_type": "code",
      "source": [
        "df=pd.read_excel(\"/content/Train Data FA.xlsx\")\n",
        "#This code provides a preliminary overview of the dataset by displaying the first five rows\n",
        "df.head()"
      ],
      "metadata": {
        "id": "2mt9YFEvNtyv",
        "colab": {
          "base_uri": "https://localhost:8080/",
          "height": 206
        },
        "outputId": "e036cf0d-03c5-4879-e9ca-593503c4c20f"
      },
      "execution_count": 2,
      "outputs": [
        {
          "output_type": "execute_result",
          "data": {
            "text/plain": [
              "                                                Text  Label\n",
              "0  وزارت خارجه سعودی: تصمیم دولت اشغالگر اسرائیل ...      0\n",
              "1           ساکنان غزه با خطر جدی گرسنگی مواجه هستند      0\n",
              "2  بنیامین نتانیاهو، نخست‌وزیر اسرائیل، شامگاه چه...      1\n",
              "3  جنگنده‌های رژیم صهیونیستی مناطق شمالی نوار غزه...      0\n",
              "4  رسانه های فلسطینی: در پی حمله اسرائیل به بیمار...      0"
            ],
            "text/html": [
              "\n",
              "  <div id=\"df-8b5b23f9-92ae-44a4-97a9-15dd62a5a00f\" class=\"colab-df-container\">\n",
              "    <div>\n",
              "<style scoped>\n",
              "    .dataframe tbody tr th:only-of-type {\n",
              "        vertical-align: middle;\n",
              "    }\n",
              "\n",
              "    .dataframe tbody tr th {\n",
              "        vertical-align: top;\n",
              "    }\n",
              "\n",
              "    .dataframe thead th {\n",
              "        text-align: right;\n",
              "    }\n",
              "</style>\n",
              "<table border=\"1\" class=\"dataframe\">\n",
              "  <thead>\n",
              "    <tr style=\"text-align: right;\">\n",
              "      <th></th>\n",
              "      <th>Text</th>\n",
              "      <th>Label</th>\n",
              "    </tr>\n",
              "  </thead>\n",
              "  <tbody>\n",
              "    <tr>\n",
              "      <th>0</th>\n",
              "      <td>وزارت خارجه سعودی: تصمیم دولت اشغالگر اسرائیل ...</td>\n",
              "      <td>0</td>\n",
              "    </tr>\n",
              "    <tr>\n",
              "      <th>1</th>\n",
              "      <td>ساکنان غزه با خطر جدی گرسنگی مواجه هستند</td>\n",
              "      <td>0</td>\n",
              "    </tr>\n",
              "    <tr>\n",
              "      <th>2</th>\n",
              "      <td>بنیامین نتانیاهو، نخست‌وزیر اسرائیل، شامگاه چه...</td>\n",
              "      <td>1</td>\n",
              "    </tr>\n",
              "    <tr>\n",
              "      <th>3</th>\n",
              "      <td>جنگنده‌های رژیم صهیونیستی مناطق شمالی نوار غزه...</td>\n",
              "      <td>0</td>\n",
              "    </tr>\n",
              "    <tr>\n",
              "      <th>4</th>\n",
              "      <td>رسانه های فلسطینی: در پی حمله اسرائیل به بیمار...</td>\n",
              "      <td>0</td>\n",
              "    </tr>\n",
              "  </tbody>\n",
              "</table>\n",
              "</div>\n",
              "    <div class=\"colab-df-buttons\">\n",
              "\n",
              "  <div class=\"colab-df-container\">\n",
              "    <button class=\"colab-df-convert\" onclick=\"convertToInteractive('df-8b5b23f9-92ae-44a4-97a9-15dd62a5a00f')\"\n",
              "            title=\"Convert this dataframe to an interactive table.\"\n",
              "            style=\"display:none;\">\n",
              "\n",
              "  <svg xmlns=\"http://www.w3.org/2000/svg\" height=\"24px\" viewBox=\"0 -960 960 960\">\n",
              "    <path d=\"M120-120v-720h720v720H120Zm60-500h600v-160H180v160Zm220 220h160v-160H400v160Zm0 220h160v-160H400v160ZM180-400h160v-160H180v160Zm440 0h160v-160H620v160ZM180-180h160v-160H180v160Zm440 0h160v-160H620v160Z\"/>\n",
              "  </svg>\n",
              "    </button>\n",
              "\n",
              "  <style>\n",
              "    .colab-df-container {\n",
              "      display:flex;\n",
              "      gap: 12px;\n",
              "    }\n",
              "\n",
              "    .colab-df-convert {\n",
              "      background-color: #E8F0FE;\n",
              "      border: none;\n",
              "      border-radius: 50%;\n",
              "      cursor: pointer;\n",
              "      display: none;\n",
              "      fill: #1967D2;\n",
              "      height: 32px;\n",
              "      padding: 0 0 0 0;\n",
              "      width: 32px;\n",
              "    }\n",
              "\n",
              "    .colab-df-convert:hover {\n",
              "      background-color: #E2EBFA;\n",
              "      box-shadow: 0px 1px 2px rgba(60, 64, 67, 0.3), 0px 1px 3px 1px rgba(60, 64, 67, 0.15);\n",
              "      fill: #174EA6;\n",
              "    }\n",
              "\n",
              "    .colab-df-buttons div {\n",
              "      margin-bottom: 4px;\n",
              "    }\n",
              "\n",
              "    [theme=dark] .colab-df-convert {\n",
              "      background-color: #3B4455;\n",
              "      fill: #D2E3FC;\n",
              "    }\n",
              "\n",
              "    [theme=dark] .colab-df-convert:hover {\n",
              "      background-color: #434B5C;\n",
              "      box-shadow: 0px 1px 3px 1px rgba(0, 0, 0, 0.15);\n",
              "      filter: drop-shadow(0px 1px 2px rgba(0, 0, 0, 0.3));\n",
              "      fill: #FFFFFF;\n",
              "    }\n",
              "  </style>\n",
              "\n",
              "    <script>\n",
              "      const buttonEl =\n",
              "        document.querySelector('#df-8b5b23f9-92ae-44a4-97a9-15dd62a5a00f button.colab-df-convert');\n",
              "      buttonEl.style.display =\n",
              "        google.colab.kernel.accessAllowed ? 'block' : 'none';\n",
              "\n",
              "      async function convertToInteractive(key) {\n",
              "        const element = document.querySelector('#df-8b5b23f9-92ae-44a4-97a9-15dd62a5a00f');\n",
              "        const dataTable =\n",
              "          await google.colab.kernel.invokeFunction('convertToInteractive',\n",
              "                                                    [key], {});\n",
              "        if (!dataTable) return;\n",
              "\n",
              "        const docLinkHtml = 'Like what you see? Visit the ' +\n",
              "          '<a target=\"_blank\" href=https://colab.research.google.com/notebooks/data_table.ipynb>data table notebook</a>'\n",
              "          + ' to learn more about interactive tables.';\n",
              "        element.innerHTML = '';\n",
              "        dataTable['output_type'] = 'display_data';\n",
              "        await google.colab.output.renderOutput(dataTable, element);\n",
              "        const docLink = document.createElement('div');\n",
              "        docLink.innerHTML = docLinkHtml;\n",
              "        element.appendChild(docLink);\n",
              "      }\n",
              "    </script>\n",
              "  </div>\n",
              "\n",
              "\n",
              "<div id=\"df-9f9785f0-eaa9-4685-b100-2e563ecd296c\">\n",
              "  <button class=\"colab-df-quickchart\" onclick=\"quickchart('df-9f9785f0-eaa9-4685-b100-2e563ecd296c')\"\n",
              "            title=\"Suggest charts\"\n",
              "            style=\"display:none;\">\n",
              "\n",
              "<svg xmlns=\"http://www.w3.org/2000/svg\" height=\"24px\"viewBox=\"0 0 24 24\"\n",
              "     width=\"24px\">\n",
              "    <g>\n",
              "        <path d=\"M19 3H5c-1.1 0-2 .9-2 2v14c0 1.1.9 2 2 2h14c1.1 0 2-.9 2-2V5c0-1.1-.9-2-2-2zM9 17H7v-7h2v7zm4 0h-2V7h2v10zm4 0h-2v-4h2v4z\"/>\n",
              "    </g>\n",
              "</svg>\n",
              "  </button>\n",
              "\n",
              "<style>\n",
              "  .colab-df-quickchart {\n",
              "      --bg-color: #E8F0FE;\n",
              "      --fill-color: #1967D2;\n",
              "      --hover-bg-color: #E2EBFA;\n",
              "      --hover-fill-color: #174EA6;\n",
              "      --disabled-fill-color: #AAA;\n",
              "      --disabled-bg-color: #DDD;\n",
              "  }\n",
              "\n",
              "  [theme=dark] .colab-df-quickchart {\n",
              "      --bg-color: #3B4455;\n",
              "      --fill-color: #D2E3FC;\n",
              "      --hover-bg-color: #434B5C;\n",
              "      --hover-fill-color: #FFFFFF;\n",
              "      --disabled-bg-color: #3B4455;\n",
              "      --disabled-fill-color: #666;\n",
              "  }\n",
              "\n",
              "  .colab-df-quickchart {\n",
              "    background-color: var(--bg-color);\n",
              "    border: none;\n",
              "    border-radius: 50%;\n",
              "    cursor: pointer;\n",
              "    display: none;\n",
              "    fill: var(--fill-color);\n",
              "    height: 32px;\n",
              "    padding: 0;\n",
              "    width: 32px;\n",
              "  }\n",
              "\n",
              "  .colab-df-quickchart:hover {\n",
              "    background-color: var(--hover-bg-color);\n",
              "    box-shadow: 0 1px 2px rgba(60, 64, 67, 0.3), 0 1px 3px 1px rgba(60, 64, 67, 0.15);\n",
              "    fill: var(--button-hover-fill-color);\n",
              "  }\n",
              "\n",
              "  .colab-df-quickchart-complete:disabled,\n",
              "  .colab-df-quickchart-complete:disabled:hover {\n",
              "    background-color: var(--disabled-bg-color);\n",
              "    fill: var(--disabled-fill-color);\n",
              "    box-shadow: none;\n",
              "  }\n",
              "\n",
              "  .colab-df-spinner {\n",
              "    border: 2px solid var(--fill-color);\n",
              "    border-color: transparent;\n",
              "    border-bottom-color: var(--fill-color);\n",
              "    animation:\n",
              "      spin 1s steps(1) infinite;\n",
              "  }\n",
              "\n",
              "  @keyframes spin {\n",
              "    0% {\n",
              "      border-color: transparent;\n",
              "      border-bottom-color: var(--fill-color);\n",
              "      border-left-color: var(--fill-color);\n",
              "    }\n",
              "    20% {\n",
              "      border-color: transparent;\n",
              "      border-left-color: var(--fill-color);\n",
              "      border-top-color: var(--fill-color);\n",
              "    }\n",
              "    30% {\n",
              "      border-color: transparent;\n",
              "      border-left-color: var(--fill-color);\n",
              "      border-top-color: var(--fill-color);\n",
              "      border-right-color: var(--fill-color);\n",
              "    }\n",
              "    40% {\n",
              "      border-color: transparent;\n",
              "      border-right-color: var(--fill-color);\n",
              "      border-top-color: var(--fill-color);\n",
              "    }\n",
              "    60% {\n",
              "      border-color: transparent;\n",
              "      border-right-color: var(--fill-color);\n",
              "    }\n",
              "    80% {\n",
              "      border-color: transparent;\n",
              "      border-right-color: var(--fill-color);\n",
              "      border-bottom-color: var(--fill-color);\n",
              "    }\n",
              "    90% {\n",
              "      border-color: transparent;\n",
              "      border-bottom-color: var(--fill-color);\n",
              "    }\n",
              "  }\n",
              "</style>\n",
              "\n",
              "  <script>\n",
              "    async function quickchart(key) {\n",
              "      const quickchartButtonEl =\n",
              "        document.querySelector('#' + key + ' button');\n",
              "      quickchartButtonEl.disabled = true;  // To prevent multiple clicks.\n",
              "      quickchartButtonEl.classList.add('colab-df-spinner');\n",
              "      try {\n",
              "        const charts = await google.colab.kernel.invokeFunction(\n",
              "            'suggestCharts', [key], {});\n",
              "      } catch (error) {\n",
              "        console.error('Error during call to suggestCharts:', error);\n",
              "      }\n",
              "      quickchartButtonEl.classList.remove('colab-df-spinner');\n",
              "      quickchartButtonEl.classList.add('colab-df-quickchart-complete');\n",
              "    }\n",
              "    (() => {\n",
              "      let quickchartButtonEl =\n",
              "        document.querySelector('#df-9f9785f0-eaa9-4685-b100-2e563ecd296c button');\n",
              "      quickchartButtonEl.style.display =\n",
              "        google.colab.kernel.accessAllowed ? 'block' : 'none';\n",
              "    })();\n",
              "  </script>\n",
              "</div>\n",
              "\n",
              "    </div>\n",
              "  </div>\n"
            ],
            "application/vnd.google.colaboratory.intrinsic+json": {
              "type": "dataframe",
              "variable_name": "df",
              "summary": "{\n  \"name\": \"df\",\n  \"rows\": 700,\n  \"fields\": [\n    {\n      \"column\": \"Text\",\n      \"properties\": {\n        \"dtype\": \"string\",\n        \"num_unique_values\": 637,\n        \"samples\": [\n          \"\\u062d\\u0645\\u0644\\u0627\\u062a \\u0627\\u0633\\u0631\\u0627\\u0626\\u06cc\\u0644 \\u0628\\u0647 \\u0645\\u062d\\u0644 \\u0627\\u0633\\u06a9\\u0627\\u0646 \\u0622\\u0648\\u0627\\u0631\\u06af\\u0627\\u0646 \\u0641\\u0644\\u0633\\u0637\\u06cc\\u0646\\u06cc\",\n          \"\\u062d\\u0645\\u0644\\u0627\\u062a \\u062c\\u062f\\u06cc\\u062f \\u0634\\u0628\\u0647 \\u0646\\u0638\\u0627\\u0645\\u06cc\\u0627\\u0646 \\u062d\\u0645\\u0627\\u0633 \\u062f\\u0631 \\u0645\\u0631\\u0632 \\u0627\\u0633\\u0631\\u0627\\u0626\\u06cc\\u0644 \\u0648 \\u0641\\u0644\\u0633\\u0637\\u06cc\\u0646\",\n          \"\\u062d\\u0645\\u0644\\u0647 \\u063a\\u0627\\u0641\\u0644\\u06af\\u06cc\\u0631 \\u06a9\\u0646\\u0646\\u062f\\u0647 \\u0646\\u06cc\\u0631\\u0648\\u0647\\u0627\\u06cc \\u0627\\u0631\\u062a\\u0634 \\u0627\\u0633\\u0631\\u0627\\u0626\\u06cc\\u0644 \\u0628\\u0647 \\u0645\\u0646\\u0627\\u0637\\u0642 \\u0645\\u062e\\u062a\\u0644\\u0641 \\u06a9\\u0631\\u0627\\u0646\\u0647 \\u0628\\u0627\\u062e\\u062a\\u0631\\u06cc\"\n        ],\n        \"semantic_type\": \"\",\n        \"description\": \"\"\n      }\n    },\n    {\n      \"column\": \"Label\",\n      \"properties\": {\n        \"dtype\": \"number\",\n        \"std\": 0,\n        \"min\": 0,\n        \"max\": 1,\n        \"num_unique_values\": 2,\n        \"samples\": [\n          1,\n          0\n        ],\n        \"semantic_type\": \"\",\n        \"description\": \"\"\n      }\n    }\n  ]\n}"
            }
          },
          "metadata": {},
          "execution_count": 2
        }
      ]
    },
    {
      "cell_type": "markdown",
      "source": [
        "####Prior to preprocessing, it is imperative to acknowledge the class imbalance present within the dataset utilized for training and fine-tuning. Specifically, the dataset exhibits an overrepresentation of negative social media posts (labeled 0) with 506 instances compared to 194 positive posts (labeled 1). Such class imbalance can potentially bias the model towards the majority class. To mitigate this, a class weighting strategy was employed, assigning higher weights to the underrepresented class to ensure equitable representation during training. Here, this is achieved through the incorporation the weight class argument within the training process. The subsequent code illustrates the class distribution within the dataset."
      ],
      "metadata": {
        "id": "-ti5ZI3DsBIT"
      }
    },
    {
      "cell_type": "code",
      "source": [
        "vc= df.value_counts('Label')\n",
        "print(\"The class distribution is as follows:\", vc)\n",
        "plt.pie(vc.values, labels=vc.index);"
      ],
      "metadata": {
        "id": "ffYyQFm9Nu6N",
        "colab": {
          "base_uri": "https://localhost:8080/",
          "height": 475
        },
        "outputId": "5c94a368-389b-4092-ca3a-6f981df5b942"
      },
      "execution_count": 3,
      "outputs": [
        {
          "output_type": "stream",
          "name": "stdout",
          "text": [
            "The class distribution is as follows: Label\n",
            "0    506\n",
            "1    194\n",
            "Name: count, dtype: int64\n"
          ]
        },
        {
          "output_type": "display_data",
          "data": {
            "text/plain": [
              "<Figure size 640x480 with 1 Axes>"
            ],
            "image/png": "[encoded data removed]"
          },
          "metadata": {}
        }
      ]
    },
    {
      "cell_type": "code",
      "source": [
        "#Firstly, the data has to be converted to numpy arrays so that the data points can be poured into a list\n",
        "train=df[:550]\n",
        "\n",
        "train=np.array(train)\n",
        "\n",
        "validation=df[550:]\n",
        "\n",
        "validation= np.array(validation)\n",
        "#This code provides the dimensions of the training and validation sets\n",
        "train.shape, validation.shape"
      ],
      "metadata": {
        "id": "RM35MlY5w4mp",
        "colab": {
          "base_uri": "https://localhost:8080/"
        },
        "outputId": "3889607c-0cf5-4f06-da41-265844fbb2f2"
      },
      "execution_count": 4,
      "outputs": [
        {
          "output_type": "execute_result",
          "data": {
            "text/plain": [
              "((550, 2), (150, 2))"
            ]
          },
          "metadata": {},
          "execution_count": 4
        }
      ]
    },
    {
      "cell_type": "code",
      "source": [
        "train_text = []\n",
        "train_labels = []\n",
        "validation_text = []\n",
        "validation_labels = []\n",
        "\n",
        "for s,l in train:\n",
        "  train_text.append(s)\n",
        "  train_labels.append(l)\n",
        "\n",
        "for s,l in validation:\n",
        "  validation_text.append(s)\n",
        "  validation_labels.append(l)\n",
        "\n",
        "#Again, since the lables do not need tokenization, they are converted to a numpy array for model training\n",
        "train_labels = np.array(train_labels)\n",
        "validation_labels = np.array(validation_labels)"
      ],
      "metadata": {
        "id": "DnkHTJfZZZUP"
      },
      "execution_count": 5,
      "outputs": []
    },
    {
      "cell_type": "code",
      "source": [
        "#The following cell will tokenize the text in train and validation set\n",
        "#The tokenizer employed is the model's inherent tokenizer.\n",
        "tokenizer = AutoTokenizer.from_pretrained(\"rezaFarsh/ternary_persian_sentiment_analysis\")\n",
        "\n",
        "#This code will pad the data (part of the preprocessing)\n",
        "sequences_train_text = tokenizer(train_text, truncation=True, padding=True, max_length=300, return_tensors='tf')\n",
        "sequences_validation_text = tokenizer(validation_text, truncation=True, padding=True, max_length=300, return_tensors='tf')\n",
        "\n",
        "#The following code makes the labeling more clear;\n",
        "id2label = {0: \"NEGATIVE\", 1: \"POSITIVE\"}\n",
        "label2id = {\"NEGATIVE\": 0, \"POSITIVE\": 1}\n",
        "\n",
        "#The following code also encodes the data to tensors which is necessary for the training\n",
        "def batch_encoding_to_tensors(batch_encoding):\n",
        "  return {key: tf.convert_to_tensor(value) for key, value in batch_encoding.items()}\n",
        "\n",
        "sequences_train_text_tensors = batch_encoding_to_tensors(sequences_train_text)\n",
        "sequences_validation_text_tensors = batch_encoding_to_tensors(sequences_validation_text)"
      ],
      "metadata": {
        "id": "apPpa4BrwwaN"
      },
      "execution_count": null,
      "outputs": []
    },
    {
      "cell_type": "code",
      "source": [
        "#These yperparameter selection was informed by an extensive optimization process culminating in the identification of parameters yielding optimal performance\n",
        "batch_size = 16\n",
        "num_epochs=25\n",
        "batches_per_epoch = len(train_text) // batch_size\n",
        "total_train_steps = int(batches_per_epoch * num_epochs)\n",
        "#The chosen optimizer was similarly determined through empirical experimentation.\n",
        "optimizer, schedule = create_optimizer(init_lr=2e-5, num_warmup_steps=0, num_train_steps=total_train_steps)\n",
        "\n",
        "#The pretrained model stated perivously, is called\n",
        "model = TFAutoModelForSequenceClassification.from_pretrained(\"rezaFarsh/ternary_persian_sentiment_analysis\",\n",
        "                                  num_labels=2, id2label=id2label, label2id=label2id, ignore_mismatched_sizes=True)"
      ],
      "metadata": {
        "id": "2xNDo7hLNl3u"
      },
      "execution_count": null,
      "outputs": []
    },
    {
      "cell_type": "code",
      "source": [
        "#The model was trained on the preprocessed and tokenized text, with accuracy metrics generated throughout the process.\n",
        "#A training epoch of 20 iterations was established\n",
        "#based on previous experiments demonstrating diminishing returns beyond this threshold, often as early as 15 epochs.\n",
        "#The class weight argument mentioned above is used\n",
        "#to ensure that the model doesn't model might become biased towards the negative class\n",
        "model.compile(optimizer=optimizer, metrics=['accuracy'])\n",
        "class_weights = {0: 0.3, 1: 0.7}\n",
        "model.fit(sequences_train_text_tensors, train_labels, epochs=num_epochs, batch_size= batch_size,\n",
        "          validation_data=(sequences_validation_text_tensors, validation_labels), class_weight=class_weights)"
      ],
      "metadata": {
        "colab": {
          "base_uri": "https://localhost:8080/"
        },
        "id": "bssYDp9fTPmP",
        "outputId": "c889778b-eb3e-4b3a-e97c-72e9fc1e591f"
      },
      "execution_count": 8,
      "outputs": [
        {
          "output_type": "stream",
          "name": "stdout",
          "text": [
            "Epoch 1/25\n",
            "35/35 [==============================] - 62s 576ms/step - loss: 0.2242 - accuracy: 0.7327 - val_loss: 0.3107 - val_accuracy: 0.8933\n",
            "Epoch 2/25\n",
            "35/35 [==============================] - 17s 500ms/step - loss: 0.0788 - accuracy: 0.9382 - val_loss: 0.1985 - val_accuracy: 0.9333\n",
            "Epoch 3/25\n",
            "35/35 [==============================] - 18s 508ms/step - loss: 0.0371 - accuracy: 0.9727 - val_loss: 0.2193 - val_accuracy: 0.9333\n",
            "Epoch 4/25\n",
            "35/35 [==============================] - 18s 515ms/step - loss: 0.0192 - accuracy: 0.9873 - val_loss: 0.1680 - val_accuracy: 0.9467\n",
            "Epoch 5/25\n",
            "35/35 [==============================] - 18s 523ms/step - loss: 0.0078 - accuracy: 0.9982 - val_loss: 0.1834 - val_accuracy: 0.9467\n",
            "Epoch 6/25\n",
            "35/35 [==============================] - 18s 530ms/step - loss: 0.0049 - accuracy: 0.9982 - val_loss: 0.1871 - val_accuracy: 0.9467\n",
            "Epoch 7/25\n",
            "35/35 [==============================] - 18s 519ms/step - loss: 0.0034 - accuracy: 0.9964 - val_loss: 0.2066 - val_accuracy: 0.9467\n",
            "Epoch 8/25\n",
            "35/35 [==============================] - 18s 518ms/step - loss: 0.0053 - accuracy: 0.9964 - val_loss: 0.1602 - val_accuracy: 0.9600\n",
            "Epoch 9/25\n",
            "35/35 [==============================] - 18s 517ms/step - loss: 0.0021 - accuracy: 1.0000 - val_loss: 0.1793 - val_accuracy: 0.9667\n",
            "Epoch 10/25\n",
            "35/35 [==============================] - 18s 522ms/step - loss: 0.0020 - accuracy: 0.9982 - val_loss: 0.1723 - val_accuracy: 0.9667\n",
            "Epoch 11/25\n",
            "35/35 [==============================] - 18s 521ms/step - loss: 7.7596e-04 - accuracy: 1.0000 - val_loss: 0.1964 - val_accuracy: 0.9667\n",
            "Epoch 12/25\n",
            "35/35 [==============================] - 17s 485ms/step - loss: 6.0977e-04 - accuracy: 1.0000 - val_loss: 0.2086 - val_accuracy: 0.9533\n",
            "Epoch 13/25\n",
            "35/35 [==============================] - 18s 519ms/step - loss: 6.0960e-04 - accuracy: 1.0000 - val_loss: 0.1981 - val_accuracy: 0.9667\n",
            "Epoch 14/25\n",
            "35/35 [==============================] - 18s 519ms/step - loss: 4.1630e-04 - accuracy: 1.0000 - val_loss: 0.1979 - val_accuracy: 0.9667\n",
            "Epoch 15/25\n",
            "35/35 [==============================] - 18s 521ms/step - loss: 4.2756e-04 - accuracy: 1.0000 - val_loss: 0.1981 - val_accuracy: 0.9667\n",
            "Epoch 16/25\n",
            "35/35 [==============================] - 17s 486ms/step - loss: 3.4632e-04 - accuracy: 1.0000 - val_loss: 0.2036 - val_accuracy: 0.9600\n",
            "Epoch 17/25\n",
            "35/35 [==============================] - 18s 523ms/step - loss: 2.9453e-04 - accuracy: 1.0000 - val_loss: 0.2054 - val_accuracy: 0.9600\n",
            "Epoch 18/25\n",
            "35/35 [==============================] - 18s 518ms/step - loss: 3.0448e-04 - accuracy: 1.0000 - val_loss: 0.2057 - val_accuracy: 0.9600\n",
            "Epoch 19/25\n",
            "35/35 [==============================] - 18s 521ms/step - loss: 3.8327e-04 - accuracy: 1.0000 - val_loss: 0.1961 - val_accuracy: 0.9600\n",
            "Epoch 20/25\n",
            "35/35 [==============================] - 18s 519ms/step - loss: 4.0654e-04 - accuracy: 1.0000 - val_loss: 0.1995 - val_accuracy: 0.9667\n",
            "Epoch 21/25\n",
            "35/35 [==============================] - 18s 521ms/step - loss: 2.6333e-04 - accuracy: 1.0000 - val_loss: 0.2070 - val_accuracy: 0.9600\n",
            "Epoch 22/25\n",
            "35/35 [==============================] - 17s 485ms/step - loss: 2.3914e-04 - accuracy: 1.0000 - val_loss: 0.2076 - val_accuracy: 0.9600\n",
            "Epoch 23/25\n",
            "35/35 [==============================] - 18s 519ms/step - loss: 2.5153e-04 - accuracy: 1.0000 - val_loss: 0.2088 - val_accuracy: 0.9600\n",
            "Epoch 24/25\n",
            "35/35 [==============================] - 18s 520ms/step - loss: 2.7631e-04 - accuracy: 1.0000 - val_loss: 0.2074 - val_accuracy: 0.9600\n",
            "Epoch 25/25\n",
            "35/35 [==============================] - 18s 519ms/step - loss: 2.5510e-04 - accuracy: 1.0000 - val_loss: 0.2074 - val_accuracy: 0.9600\n"
          ]
        },
        {
          "output_type": "execute_result",
          "data": {
            "text/plain": [
              "<tf_keras.src.callbacks.History at 0x7d92185d4af0>"
            ]
          },
          "metadata": {},
          "execution_count": 8
        }
      ]
    },
    {
      "cell_type": "markdown",
      "source": [
        "####A standardized code was executed eight times, once for each news agency, to ensure consistency and eliminate confounding variables. The code involved the application of a fine-tuned model to each agency's dataset, followed by the calculation of positive and negative sentiment percentages as determined by the model."
      ],
      "metadata": {
        "id": "LBLLDzFCne-G"
      }
    },
    {
      "cell_type": "code",
      "source": [
        "#Fars News Agency\n",
        "Fars = pd.read_excel(\"/content/Fars.xlsx\")\n",
        "\n",
        "tokenizer = AutoTokenizer.from_pretrained(\"rezaFarsh/ternary_persian_sentiment_analysis\")\n",
        "\n",
        "def preprocess_text(text):\n",
        "    return tokenizer(text, padding='max_length', truncation=True, return_tensors='tf')\n",
        "\n",
        "def predict_sentiment(text):\n",
        "    inputs = preprocess_text(text)\n",
        "    with torch.no_grad():\n",
        "        outputs = model(**inputs)\n",
        "        logits = outputs.logits\n",
        "        logits = torch.from_numpy(logits.numpy())\n",
        "        predicted_class_id = torch.argmax(logits, dim=1).item()\n",
        "    return predicted_class_id\n",
        "def calculate_sentiment_percentage(sentiments):\n",
        "    total = len(sentiments)\n",
        "    positive = sum(sentiments)\n",
        "    negative = total - positive\n",
        "    positive_percentage = (positive / total) * 100\n",
        "    negative_percentage = (negative / total) * 100\n",
        "    return positive_percentage, negative_percentage\n",
        "\n",
        "\n",
        "Fars['sentiment'] = Fars['Text'].apply(predict_sentiment)\n",
        "\n",
        "sentiments = Fars['sentiment'].tolist()\n",
        "positive_percentage, negative_percentage = calculate_sentiment_percentage(sentiments)s\n",
        "\n",
        "print(f\"Positive sentiment in Fars News Agency: {positive_percentage:.2f}%\")\n",
        "print(f\"Negative sentiment in Fars News Agency: {negative_percentage:.2f}%\")"
      ],
      "metadata": {
        "colab": {
          "base_uri": "https://localhost:8080/"
        },
        "id": "oU6_uSaFTT9H",
        "outputId": "209a404a-f15d-4bf4-8c2d-8b5912445be9"
      },
      "execution_count": 9,
      "outputs": [
        {
          "output_type": "stream",
          "name": "stdout",
          "text": [
            "Positive sentiment in Fars News Agency: 11.25%\n",
            "Negative sentiment in Fars News Agency: 88.75%\n"
          ]
        }
      ]
    },
    {
      "cell_type": "code",
      "source": [
        "#IRNA News Agency\n",
        "Irna = pd.read_excel(\"/content/IRNA.xlsx\")\n",
        "\n",
        "tokenizer = AutoTokenizer.from_pretrained(\"rezaFarsh/ternary_persian_sentiment_analysis\")\n",
        "\n",
        "def preprocess_text(text):\n",
        "    return tokenizer(text, padding='max_length', truncation=True, return_tensors='tf')\n",
        "\n",
        "def predict_sentiment(text):\n",
        "    inputs = preprocess_text(text)\n",
        "    with torch.no_grad():\n",
        "        outputs = model(**inputs)\n",
        "        logits = outputs.logits\n",
        "        logits = torch.from_numpy(logits.numpy())\n",
        "        predicted_class_id = torch.argmax(logits, dim=1).item()\n",
        "    return predicted_class_id\n",
        "def calculate_sentiment_percentage(sentiments):\n",
        "    total = len(sentiments)\n",
        "    positive = sum(sentiments)\n",
        "    negative = total - positive\n",
        "    positive_percentage = (positive / total) * 100\n",
        "    negative_percentage = (negative / total) * 100\n",
        "    return positive_percentage, negative_percentage\n",
        "\n",
        "Irna['sentiment'] = Irna['Text'].apply(predict_sentiment)\n",
        "\n",
        "sentiments = Irna['sentiment'].tolist()\n",
        "positive_percentage, negative_percentage = calculate_sentiment_percentage(sentiments)\n",
        "\n",
        "print(f\"Positive sentiment in IRNA News Agency: {positive_percentage:.2f}%\")\n",
        "print(f\"Negative sentiment in IRNA News Agency: {negative_percentage:.2f}%\")"
      ],
      "metadata": {
        "colab": {
          "base_uri": "https://localhost:8080/"
        },
        "id": "K8-QQppYh_oA",
        "outputId": "6b959a6b-0ec8-4597-b418-8440f460eaac"
      },
      "execution_count": 10,
      "outputs": [
        {
          "output_type": "stream",
          "name": "stdout",
          "text": [
            "Positive sentiment in IRNA News Agency: 18.75%\n",
            "Negative sentiment in IRNA News Agency: 81.25%\n"
          ]
        }
      ]
    },
    {
      "cell_type": "code",
      "source": [
        "#Shargh News Agency\n",
        "Shargh = pd.read_excel(\"/content/Shargh.xlsx\")\n",
        "\n",
        "tokenizer = AutoTokenizer.from_pretrained(\"rezaFarsh/ternary_persian_sentiment_analysis\")\n",
        "\n",
        "def preprocess_text(text):\n",
        "    return tokenizer(text, padding='max_length', truncation=True, return_tensors='tf')\n",
        "\n",
        "def predict_sentiment(text):\n",
        "    inputs = preprocess_text(text)\n",
        "    with torch.no_grad():\n",
        "        outputs = model(**inputs)\n",
        "        logits = outputs.logits\n",
        "        logits = torch.from_numpy(logits.numpy())\n",
        "        predicted_class_id = torch.argmax(logits, dim=1).item()\n",
        "    return predicted_class_id\n",
        "def calculate_sentiment_percentage(sentiments):\n",
        "    total = len(sentiments)\n",
        "    positive = sum(sentiments)\n",
        "    negative = total - positive\n",
        "    positive_percentage = (positive / total) * 100\n",
        "    negative_percentage = (negative / total) * 100\n",
        "    return positive_percentage, negative_percentage\n",
        "\n",
        "Shargh['sentiment'] = Shargh['Text'].apply(predict_sentiment)\n",
        "\n",
        "sentiments = Shargh['sentiment'].tolist()\n",
        "positive_percentage, negative_percentage = calculate_sentiment_percentage(sentiments)\n",
        "\n",
        "print(f\"Positive sentiment in Shargh News Agency: {positive_percentage:.2f}%\")\n",
        "print(f\"Negative sentiment in Shargh News Agency: {negative_percentage:.2f}%\")"
      ],
      "metadata": {
        "colab": {
          "base_uri": "https://localhost:8080/"
        },
        "id": "ly29Ady5TtdJ",
        "outputId": "5e61d44c-e7cf-42c8-f3e6-e7b5e882eec0"
      },
      "execution_count": 11,
      "outputs": [
        {
          "output_type": "stream",
          "name": "stdout",
          "text": [
            "Positive sentiment in Shargh News Agency: 16.25%\n",
            "Negative sentiment in Shargh News Agency: 83.75%\n"
          ]
        }
      ]
    },
    {
      "cell_type": "code",
      "source": [
        "#Etemad News Agency\n",
        "Etemad = pd.read_excel(\"/content/Etemad.xlsx\")\n",
        "\n",
        "tokenizer = AutoTokenizer.from_pretrained(\"rezaFarsh/ternary_persian_sentiment_analysis\")\n",
        "\n",
        "def preprocess_text(text):\n",
        "    return tokenizer(text, padding='max_length', truncation=True, return_tensors='tf')\n",
        "\n",
        "def predict_sentiment(text):\n",
        "    inputs = preprocess_text(text)\n",
        "    with torch.no_grad():\n",
        "        outputs = model(**inputs)\n",
        "        logits = outputs.logits\n",
        "        logits = torch.from_numpy(logits.numpy())\n",
        "        predicted_class_id = torch.argmax(logits, dim=1).item()\n",
        "    return predicted_class_id\n",
        "def calculate_sentiment_percentage(sentiments):\n",
        "    total = len(sentiments)\n",
        "    positive = sum(sentiments)\n",
        "    negative = total - positive\n",
        "    positive_percentage = (positive / total) * 100\n",
        "    negative_percentage = (negative / total) * 100\n",
        "    return positive_percentage, negative_percentage\n",
        "\n",
        "Etemad['sentiment'] = Etemad['Text'].apply(predict_sentiment)\n",
        "\n",
        "sentiments = Etemad['sentiment'].tolist()\n",
        "positive_percentage, negative_percentage = calculate_sentiment_percentage(sentiments)\n",
        "\n",
        "print(f\"Positive sentiment in Etemad News Agency: {positive_percentage:.2f}%\")\n",
        "print(f\"Negative sentiment in Etemad News Agency: {negative_percentage:.2f}%\")"
      ],
      "metadata": {
        "colab": {
          "base_uri": "https://localhost:8080/"
        },
        "id": "x19BzuPeTx25",
        "outputId": "0d566a2c-7187-4fe8-9029-8b9af0f22eb3"
      },
      "execution_count": 12,
      "outputs": [
        {
          "output_type": "stream",
          "name": "stdout",
          "text": [
            "Positive sentiment in Etemad News Agency: 6.25%\n",
            "Negative sentiment in Etemad News Agency: 93.75%\n"
          ]
        }
      ]
    },
    {
      "cell_type": "code",
      "source": [
        "#BBC Farsi News Agency\n",
        "BBC_Farsi = pd.read_excel(\"/content/BBC Farsi.xlsx\")\n",
        "\n",
        "tokenizer = AutoTokenizer.from_pretrained(\"rezaFarsh/ternary_persian_sentiment_analysis\")\n",
        "\n",
        "def preprocess_text(text):\n",
        "    return tokenizer(text, padding='max_length', truncation=True, return_tensors='tf')\n",
        "\n",
        "def predict_sentiment(text):\n",
        "    inputs = preprocess_text(text)\n",
        "    with torch.no_grad():\n",
        "        outputs = model(**inputs)\n",
        "        logits = outputs.logits\n",
        "        logits = torch.from_numpy(logits.numpy())\n",
        "        predicted_class_id = torch.argmax(logits, dim=1).item()\n",
        "    return predicted_class_id\n",
        "def calculate_sentiment_percentage(sentiments):\n",
        "    total = len(sentiments)\n",
        "    positive = sum(sentiments)\n",
        "    negative = total - positive\n",
        "    positive_percentage = (positive / total) * 100\n",
        "    negative_percentage = (negative / total) * 100\n",
        "    return positive_percentage, negative_percentage\n",
        "\n",
        "BBC_Farsi['sentiment'] = BBC_Farsi['Text'].apply(predict_sentiment)\n",
        "\n",
        "sentiments = BBC_Farsi['sentiment'].tolist()\n",
        "positive_percentage, negative_percentage = calculate_sentiment_percentage(sentiments)\n",
        "\n",
        "print(f\"Positive sentiment in BBC Farsi News Agency: {positive_percentage:.2f}%\")\n",
        "print(f\"Negative sentiment in BBC Farsi News Agency: {negative_percentage:.2f}%\")"
      ],
      "metadata": {
        "colab": {
          "base_uri": "https://localhost:8080/"
        },
        "id": "q7wrWLXsT4Gl",
        "outputId": "fe494395-ccff-4cdb-d018-3eaa6a305dc8"
      },
      "execution_count": 13,
      "outputs": [
        {
          "output_type": "stream",
          "name": "stdout",
          "text": [
            "Positive sentiment in BBC Farsi News Agency: 18.75%\n",
            "Negative sentiment in BBC Farsi News Agency: 81.25%\n"
          ]
        }
      ]
    },
    {
      "cell_type": "code",
      "source": [
        "#DW Farsi News Agency\n",
        "DW_Farsi= pd.read_excel(\"/content/DW farsi.xlsx\")\n",
        "\n",
        "tokenizer = AutoTokenizer.from_pretrained(\"rezaFarsh/ternary_persian_sentiment_analysis\")\n",
        "\n",
        "def preprocess_text(text):\n",
        "    return tokenizer(text, padding='max_length', truncation=True, return_tensors='tf')\n",
        "\n",
        "def predict_sentiment(text):\n",
        "    inputs = preprocess_text(text)\n",
        "    with torch.no_grad():\n",
        "        outputs = model(**inputs)\n",
        "        logits = outputs.logits\n",
        "        logits = torch.from_numpy(logits.numpy())\n",
        "        predicted_class_id = torch.argmax(logits, dim=1).item()\n",
        "    return predicted_class_id\n",
        "def calculate_sentiment_percentage(sentiments):\n",
        "    total = len(sentiments)\n",
        "    positive = sum(sentiments)\n",
        "    negative = total - positive\n",
        "    positive_percentage = (positive / total) * 100\n",
        "    negative_percentage = (negative / total) * 100\n",
        "    return positive_percentage, negative_percentage\n",
        "\n",
        "DW_Farsi['sentiment'] = DW_Farsi['Text'].apply(predict_sentiment)\n",
        "\n",
        "sentiments = DW_Farsi['sentiment'].tolist()\n",
        "positive_percentage, negative_percentage = calculate_sentiment_percentage(sentiments)\n",
        "\n",
        "print(f\"Positive sentiment in DW Farsi News Agency: {positive_percentage:.2f}%\")\n",
        "print(f\"Negative sentiment in DW Farsi News Agency: {negative_percentage:.2f}%\")"
      ],
      "metadata": {
        "colab": {
          "base_uri": "https://localhost:8080/"
        },
        "id": "ZobvkTwNT8Om",
        "outputId": "f9ea5132-ecc3-4600-f995-d34b44736874"
      },
      "execution_count": 14,
      "outputs": [
        {
          "output_type": "stream",
          "name": "stdout",
          "text": [
            "Positive sentiment in DW Farsi News Agency: 11.25%\n",
            "Negative sentiment in DW Farsi News Agency: 88.75%\n"
          ]
        }
      ]
    },
    {
      "cell_type": "code",
      "source": [
        "#VOA Farsi News Agency\n",
        "VOA_Farsi = pd.read_excel(\"/content/VOA Farsi.xlsx\")\n",
        "\n",
        "tokenizer = AutoTokenizer.from_pretrained(\"rezaFarsh/ternary_persian_sentiment_analysis\")\n",
        "\n",
        "def preprocess_text(text):\n",
        "    return tokenizer(text, padding='max_length', truncation=True, return_tensors='tf')\n",
        "\n",
        "def predict_sentiment(text):\n",
        "    inputs = preprocess_text(text)\n",
        "    with torch.no_grad():\n",
        "        outputs = model(**inputs)\n",
        "        logits = outputs.logits\n",
        "        logits = torch.from_numpy(logits.numpy())\n",
        "        predicted_class_id = torch.argmax(logits, dim=1).item()\n",
        "    return predicted_class_id\n",
        "def calculate_sentiment_percentage(sentiments):\n",
        "    total = len(sentiments)\n",
        "    positive = sum(sentiments)\n",
        "    negative = total - positive\n",
        "    positive_percentage = (positive / total) * 100\n",
        "    negative_percentage = (negative / total) * 100\n",
        "    return positive_percentage, negative_percentage\n",
        "\n",
        "VOA_Farsi['sentiment'] = VOA_Farsi['Text'].apply(predict_sentiment)\n",
        "\n",
        "sentiments = VOA_Farsi['sentiment'].tolist()\n",
        "positive_percentage, negative_percentage = calculate_sentiment_percentage(sentiments)\n",
        "\n",
        "print(f\"Positive sentiment in VOA Farsi News Agency: {positive_percentage:.2f}%\")\n",
        "print(f\"Negative sentiment in VOA Farsi News Agency: {negative_percentage:.2f}%\")"
      ],
      "metadata": {
        "colab": {
          "base_uri": "https://localhost:8080/"
        },
        "id": "iKt6eEULUBzs",
        "outputId": "ddd5e127-9464-4b43-d974-a58dca2c0bc8"
      },
      "execution_count": 15,
      "outputs": [
        {
          "output_type": "stream",
          "name": "stdout",
          "text": [
            "Positive sentiment in VOA Farsi News Agency: 22.50%\n",
            "Negative sentiment in VOA Farsi News Agency: 77.50%\n"
          ]
        }
      ]
    },
    {
      "cell_type": "code",
      "source": [
        "#Iran International News Agency\n",
        "Iran_International = pd.read_excel(\"/content/Iran International.xlsx\")\n",
        "\n",
        "tokenizer = AutoTokenizer.from_pretrained(\"rezaFarsh/ternary_persian_sentiment_analysis\")\n",
        "\n",
        "def preprocess_text(text):\n",
        "    return tokenizer(text, padding='max_length', truncation=True, return_tensors='tf')\n",
        "\n",
        "def predict_sentiment(text):\n",
        "    inputs = preprocess_text(text)\n",
        "    with torch.no_grad():\n",
        "        outputs = model(**inputs)\n",
        "        logits = outputs.logits\n",
        "        logits = torch.from_numpy(logits.numpy())\n",
        "        predicted_class_id = torch.argmax(logits, dim=1).item()\n",
        "    return predicted_class_id\n",
        "def calculate_sentiment_percentage(sentiments):\n",
        "    total = len(sentiments)\n",
        "    positive = sum(sentiments)\n",
        "    negative = total - positive\n",
        "    positive_percentage = (positive / total) * 100\n",
        "    negative_percentage = (negative / total) * 100\n",
        "    return positive_percentage, negative_percentage\n",
        "\n",
        "Iran_International['sentiment'] = Iran_International['Text'].apply(predict_sentiment)\n",
        "\n",
        "sentiments = Iran_International['sentiment'].tolist()\n",
        "positive_percentage, negative_percentage = calculate_sentiment_percentage(sentiments)\n",
        "\n",
        "print(f\"Positive sentiment in Iran International News Agency: {positive_percentage:.2f}%\")\n",
        "print(f\"Negative sentiment in Iran International News Agency: {negative_percentage:.2f}%\")"
      ],
      "metadata": {
        "colab": {
          "base_uri": "https://localhost:8080/"
        },
        "id": "i2v2XbdQUDAB",
        "outputId": "9b3b0700-44ab-45ea-c395-747971374ff8"
      },
      "execution_count": 16,
      "outputs": [
        {
          "output_type": "stream",
          "name": "stdout",
          "text": [
            "Positive sentiment in Iran International News Agency: 37.50%\n",
            "Negative sentiment in Iran International News Agency: 62.50%\n"
          ]
        }
      ]
    }
  ]
}